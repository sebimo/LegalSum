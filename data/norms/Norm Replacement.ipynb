{
 "cells": [
  {
   "cell_type": "markdown",
   "id": "soviet-montreal",
   "metadata": {},
   "source": [
    "## Norm Replacement\n",
    "Notebook for testing different replacement strategies.\n",
    "\n",
    "Problem Statement: Norms found in verdicts are not always annotated, but they are most of the time irrelevant pieces of information for summarization. A combination of strings numbers and characters does not convey any meaning, if the referenced text is unknown. \n",
    "\n",
    "Ideas:\n",
    "* use the service from a legal publisher to annotate them and replace them\n",
    "* match § and a known legal norm in the text -> replace everything in between; we might want to add some conditions on the tokens between"
   ]
  },
  {
   "cell_type": "code",
   "execution_count": 1,
   "id": "collected-tourism",
   "metadata": {},
   "outputs": [],
   "source": [
    "from replace import *\n",
    "from pathlib import Path"
   ]
  },
  {
   "cell_type": "code",
   "execution_count": 12,
   "id": "cleared-colonial",
   "metadata": {},
   "outputs": [],
   "source": [
    "sentences = [\n",
    "    \"Nach § 3 BGB gilt dies nicht.\",\n",
    "    \"Nach BGB gilt dies nicht.\",\n",
    "    \"Ein Doppelhaus iSd § 22 BauNVO ist eine bauliche Anlage, die dadurch entsteht, dass zwei Gebäude auf benachbarten Grundstücken durch Aneinanderbauen an der gemeinsamen Grundstücksgrenze zu einer Einheit zusammengefügt werden.\",\n",
    "    \"Zu den \\\"Aufwendungen\\\" i.S.v. § 14 Abs. 4 S. 1 SGB IX\",\n",
    "    \"Der Antrag nach § 80a Abs. 3 i.V.m. § 80 Abs. 5 Satz 1 Alt. 2 i.V.m. Abs. 2 Satz 1 Nr. 4 VwGO\"\n",
    "]"
   ]
  },
  {
   "cell_type": "code",
   "execution_count": 13,
   "id": "olympic-marshall",
   "metadata": {},
   "outputs": [
    {
     "data": {
      "text/plain": [
       "['Nach § <VERWEIS-GS PUBKUERZEL=\"BGB\" NORM=\"3\">3 BGB</VERWEIS-GS> gilt dies nicht.\\n',\n",
       " 'Nach BGB gilt dies nicht.\\n',\n",
       " 'Ein Doppelhaus iSd § 22 BauNVO ist eine bauliche Anlage, die dadurch entsteht, dass zwei Gebäude auf benachbarten Grundstücken durch Aneinanderbauen an der gemeinsamen Grundstücksgrenze zu einer Einheit zusammengefügt werden.\\n',\n",
       " 'Zu den \"Aufwendungen\" i.S.v. § <VERWEIS-GS PUBKUERZEL=\"SGBIX\" NORM=\"14\">14 Abs. 4 S. 1 SGB IX</VERWEIS-GS>\\n',\n",
       " 'Der Antrag nach §\\xa0<VERWEIS-GS PUBKUERZEL=\"VwGO\" NORM=\"80a\">80a Abs. 3</VERWEIS-GS> i.V.m. §\\xa0<VERWEIS-GS PUBKUERZEL=\"VwGO\" NORM=\"80\">80 Abs. 5 Satz 1 Alt. 2 i.V.m. Abs. 2 Satz 1 Nr. 4 VwGO</VERWEIS-GS>\\n']"
      ]
     },
     "execution_count": 13,
     "metadata": {},
     "output_type": "execute_result"
    }
   ],
   "source": [
    "read_user_info(path=Path(\"config.ini\"))\n",
    "annotate_publisher(sentences)"
   ]
  },
  {
   "cell_type": "code",
   "execution_count": null,
   "id": "increasing-asian",
   "metadata": {},
   "outputs": [],
   "source": []
  }
 ],
 "metadata": {
  "kernelspec": {
   "display_name": "Python 3",
   "language": "python",
   "name": "python3"
  },
  "language_info": {
   "codemirror_mode": {
    "name": "ipython",
    "version": 3
   },
   "file_extension": ".py",
   "mimetype": "text/x-python",
   "name": "python",
   "nbconvert_exporter": "python",
   "pygments_lexer": "ipython3",
   "version": "3.8.5"
  }
 },
 "nbformat": 4,
 "nbformat_minor": 5
}
