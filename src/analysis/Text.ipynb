{
 "cells": [
  {
   "cell_type": "markdown",
   "id": "animated-definition",
   "metadata": {},
   "source": [
    "## Token Analysis \n",
    "Some analysis about the words found in the verdicts. \n",
    "This might help to decide which type of tokenization I need to use to create a scalable and robust summarization system."
   ]
  },
  {
   "cell_type": "markdown",
   "id": "sharing-equipment",
   "metadata": {},
   "source": [
    "Assumption: When executing this notebook, we are in the \"analysis\" folder, to have the ability to use relative paths."
   ]
  },
  {
   "cell_type": "markdown",
   "id": "vital-market",
   "metadata": {},
   "source": [
    "### Data Loading"
   ]
  },
  {
   "cell_type": "code",
   "execution_count": 1,
   "id": "soviet-tuner",
   "metadata": {},
   "outputs": [],
   "source": [
    "from collections import Counter\n",
    "import io\n",
    "import os\n",
    "import pickle\n",
    "from pathlib import Path\n",
    "import seaborn as sns\n",
    "from pprint import pprint"
   ]
  },
  {
   "cell_type": "code",
   "execution_count": 2,
   "id": "opposite-charlotte",
   "metadata": {},
   "outputs": [],
   "source": [
    "with io.open(Path(\"..\")/\"..\"/\"model\"/\"frequency.pkl\", \"rb\") as f:\n",
    "    counter = pickle.load(f)"
   ]
  },
  {
   "cell_type": "code",
   "execution_count": 3,
   "id": "suspected-translation",
   "metadata": {},
   "outputs": [
    {
     "name": "stdout",
     "output_type": "stream",
     "text": [
      "Range of token counts: [ 1 , 12265497 ]\n"
     ]
    }
   ],
   "source": [
    "counts = counter.values()\n",
    "print(\"Range of token counts:\", \"[\", min(counts),\",\", max(counts), \"]\")"
   ]
  },
  {
   "cell_type": "code",
   "execution_count": 4,
   "id": "renewable-disorder",
   "metadata": {},
   "outputs": [
    {
     "name": "stdout",
     "output_type": "stream",
     "text": [
      "Most common words:\n",
      "[('der', 12265497),\n",
      " ('<num>', 10577608),\n",
      " ('die', 10112938),\n",
      " ('des', 4699633),\n",
      " ('und', 4220946),\n",
      " ('in', 3517945),\n",
      " ('nicht', 3391635),\n",
      " ('zu', 2906085),\n",
      " ('den', 2886045),\n",
      " ('<norm>', 2631495),\n",
      " ('ist', 2429422),\n",
      " ('von', 2409823),\n",
      " ('das', 2380290),\n",
      " ('dem', 2291145),\n",
      " ('auf', 2258733),\n",
      " ('dass', 2145865),\n",
      " ('im', 2090941),\n",
      " ('für', 2089969),\n",
      " ('eine', 1970709),\n",
      " ('mit', 1875704)]\n"
     ]
    }
   ],
   "source": [
    "print(\"Most common words:\")\n",
    "pprint(counter.most_common(20))"
   ]
  },
  {
   "cell_type": "code",
   "execution_count": 5,
   "id": "expected-substance",
   "metadata": {},
   "outputs": [
    {
     "name": "stdout",
     "output_type": "stream",
     "text": [
      "Number of uniqe words: 1078009\n"
     ]
    }
   ],
   "source": [
    "print(\"Number of uniqe words:\", len(counter))"
   ]
  },
  {
   "cell_type": "code",
   "execution_count": 6,
   "id": "suspended-sweden",
   "metadata": {},
   "outputs": [
    {
     "name": "stdout",
     "output_type": "stream",
     "text": [
      "Most common number of occurences of unique words:\n",
      "[(1, 442233),\n",
      " (2, 165160),\n",
      " (3, 79268),\n",
      " (4, 53786),\n",
      " (5, 35276),\n",
      " (6, 27969),\n",
      " (7, 21188),\n",
      " (8, 17585),\n",
      " (9, 14295),\n",
      " (10, 12652),\n",
      " (11, 10637),\n",
      " (12, 9340),\n",
      " (13, 8239),\n",
      " (14, 7496),\n",
      " (15, 6481),\n",
      " (16, 6017),\n",
      " (17, 5432),\n",
      " (18, 5018),\n",
      " (19, 4541),\n",
      " (20, 4284)]\n"
     ]
    }
   ],
   "source": [
    "frequency_count = Counter(counts)\n",
    "print(\"Most common number of occurences of unique words:\")\n",
    "pprint(frequency_count.most_common(20))"
   ]
  },
  {
   "cell_type": "markdown",
   "id": "plastic-spokesman",
   "metadata": {},
   "source": [
    "Based on the very large portion of unique words, which only appear a handful of times, we need to set a token count threshold. Otherwise the number of tokens will be way to large for learning."
   ]
  },
  {
   "cell_type": "code",
   "execution_count": 7,
   "id": "addressed-conviction",
   "metadata": {},
   "outputs": [
    {
     "name": "stdout",
     "output_type": "stream",
     "text": [
      "Number of unique words (after threshold filter): 54139\n",
      "Percentage of total words cut: 0.027985444213289745\n"
     ]
    }
   ],
   "source": [
    "threshold = 100\n",
    "filtered_counts = list(filter(lambda x: x > threshold, counts))\n",
    "print(\"Number of unique words (after threshold filter):\", len(filtered_counts))\n",
    "print(\"Percentage of total words cut:\", (1-sum(filtered_counts)/sum(counts)))"
   ]
  },
  {
   "cell_type": "code",
   "execution_count": 8,
   "id": "regulated-projection",
   "metadata": {},
   "outputs": [
    {
     "name": "stdout",
     "output_type": "stream",
     "text": [
      "Percentage of individual word occurences:\n"
     ]
    },
    {
     "data": {
      "text/plain": [
       "<AxesSubplot:ylabel='Density'>"
      ]
     },
     "execution_count": 8,
     "metadata": {},
     "output_type": "execute_result"
    },
    {
     "data": {
      "image/png": "[encoded data removed]",
      "text/plain": [
       "<Figure size 432x288 with 1 Axes>"
      ]
     },
     "metadata": {
      "needs_background": "light"
     },
     "output_type": "display_data"
    }
   ],
   "source": [
    "print(\"Percentage of individual word occurences:\")\n",
    "sns.kdeplot(filtered_counts)"
   ]
  },
  {
   "cell_type": "code",
   "execution_count": 9,
   "id": "universal-victor",
   "metadata": {},
   "outputs": [],
   "source": [
    "# TODO do plot of threshold vs percentage of total words cut"
   ]
  },
  {
   "cell_type": "markdown",
   "id": "familiar-prescription",
   "metadata": {},
   "source": [
    "### Result\n",
    "The tokenization should probably be build around byte-pair encoding, otherwise is the number of unique words just way to high. A high threshold might be an Option, as only a small portion of the verdict would be replaced with \"\\<unk\\>\"\n",
    "On the other hand, only 3% of words are cut, if we only allow tokens with a high occurence number. I.e. it will not be problematic to just remove them."
   ]
  },
  {
   "cell_type": "markdown",
   "id": "viral-rebel",
   "metadata": {},
   "source": [
    "## Guiding Principle Analysis\n",
    "I will have a look at general properties for the Guiding Principles. E.g. number of sentences, len"
   ]
  },
  {
   "cell_type": "code",
   "execution_count": 10,
   "id": "alone-council",
   "metadata": {},
   "outputs": [],
   "source": [
    "import sys\n",
    "sys.path.append(\"..\")\n",
    "from tqdm import tqdm\n",
    "from functools import reduce\n",
    "\n",
    "from preprocessing import Tokenizer\n",
    "DATA_PATH = Path(\"..\")/\"..\"/\"data\"/\"dataset\"\n"
   ]
  },
  {
   "cell_type": "code",
   "execution_count": 11,
   "id": "corrected-malaysia",
   "metadata": {},
   "outputs": [
    {
     "name": "stderr",
     "output_type": "stream",
     "text": [
      "Tokenizing:: 100%|████████████████████████████████████████████████████████████████████████████████████████████████████████████████████████████████████████████████████████████████████████████████████████████████████████████████████████████████| 100018/100018 [19:57<00:00, 83.49it/s]\n"
     ]
    }
   ],
   "source": [
    "gps = []\n",
    "tok = Tokenizer(Path(\"..\")/\"..\"/\"model\")\n",
    "for file in tqdm(os.listdir(DATA_PATH), desc=\"Tokenizing:\"):\n",
    "    verdict = tok.tokenize_verdict(DATA_PATH/file)\n",
    "    gps.append(verdict[\"guiding_principle\"])"
   ]
  },
  {
   "cell_type": "code",
   "execution_count": 12,
   "id": "australian-strap",
   "metadata": {},
   "outputs": [
    {
     "name": "stdout",
     "output_type": "stream",
     "text": [
      "Average guiding principle length: 25.820362674726105\n"
     ]
    }
   ],
   "source": [
    "gp_lengths = list(map(lambda sentences: list(map(lambda sentence: len(sentence),sentences)),gps))\n",
    "all_lengths = reduce(lambda x, y: x+y, gp_lengths)\n",
    "average = sum(all_lengths)/len(all_lengths)\n",
    "print(\"Average guiding principle length:\", average)"
   ]
  },
  {
   "cell_type": "code",
   "execution_count": 13,
   "id": "furnished-pillow",
   "metadata": {},
   "outputs": [
    {
     "name": "stdout",
     "output_type": "stream",
     "text": [
      "Lenghts in : [ 1 , 276 ]\n",
      "Total num tokens: 7518115\n"
     ]
    }
   ],
   "source": [
    "print(\"Lenghts in : [\", min(all_lengths), \",\", max(all_lengths), \"]\")\n",
    "print(\"Total num tokens:\", sum(all_lengths))"
   ]
  },
  {
   "cell_type": "code",
   "execution_count": 14,
   "id": "turned-delight",
   "metadata": {},
   "outputs": [
    {
     "data": {
      "text/plain": [
       "<AxesSubplot:ylabel='Density'>"
      ]
     },
     "execution_count": 14,
     "metadata": {},
     "output_type": "execute_result"
    },
    {
     "data": {
      "image/png": "[encoded data removed]",
      "text/plain": [
       "<Figure size 432x288 with 1 Axes>"
      ]
     },
     "metadata": {
      "needs_background": "light"
     },
     "output_type": "display_data"
    }
   ],
   "source": [
    "sns.kdeplot(all_lengths)"
   ]
  },
  {
   "cell_type": "code",
   "execution_count": 15,
   "id": "original-pride",
   "metadata": {},
   "outputs": [
    {
     "name": "stdout",
     "output_type": "stream",
     "text": [
      "Average number of gp sentences: 2.911175988322102\n"
     ]
    }
   ],
   "source": [
    "num_gps = list(map(lambda gps: len(gps), gp_lengths))\n",
    "sent_average = sum(num_gps)/len(num_gps)\n",
    "print(\"Average number of gp sentences:\", sent_average)"
   ]
  },
  {
   "cell_type": "code",
   "execution_count": 16,
   "id": "motivated-horizontal",
   "metadata": {},
   "outputs": [
    {
     "name": "stdout",
     "output_type": "stream",
     "text": [
      "Lenghts in : [ 1 , 74 ]\n",
      "Total num tokens: 291170\n"
     ]
    }
   ],
   "source": [
    "print(\"Lenghts in : [\", min(num_gps), \",\", max(num_gps), \"]\")\n",
    "print(\"Total num tokens:\", sum(num_gps))"
   ]
  },
  {
   "cell_type": "markdown",
   "id": "forbidden-property",
   "metadata": {},
   "source": [
    "ATTENTION: We have to filter the guiding principles after tokenization as well, otherwise there might be an empty verdict!"
   ]
  },
  {
   "cell_type": "code",
   "execution_count": 17,
   "id": "downtown-stupid",
   "metadata": {
    "scrolled": true
   },
   "outputs": [
    {
     "data": {
      "text/plain": [
       "<AxesSubplot:ylabel='Density'>"
      ]
     },
     "execution_count": 17,
     "metadata": {},
     "output_type": "execute_result"
    },
    {
     "data": {
      "image/png": "[encoded data removed]",
      "text/plain": [
       "<Figure size 432x288 with 1 Axes>"
      ]
     },
     "metadata": {
      "needs_background": "light"
     },
     "output_type": "display_data"
    }
   ],
   "source": [
    "sns.kdeplot(num_gps)"
   ]
  },
  {
   "cell_type": "markdown",
   "id": "exclusive-cricket",
   "metadata": {},
   "source": [
    "## Text Analyis\n",
    "We want to have a general look into the lengths of the documents. First, we have a look at the number of tokens per sentence in the different regions."
   ]
  },
  {
   "cell_type": "code",
   "execution_count": 19,
   "id": "starting-tissue",
   "metadata": {},
   "outputs": [
    {
     "name": "stderr",
     "output_type": "stream",
     "text": [
      "Tokenizing:: 100%|████████████████████████████████████████████████████████████████████████████████████████████████████████████████████████████████████████████████████████████████████████████████████████████████████████████████████████████████| 100018/100018 [20:09<00:00, 82.67it/s]\n"
     ]
    }
   ],
   "source": [
    "lengths = []\n",
    "tok = Tokenizer(Path(\"..\")/\"..\"/\"model\")\n",
    "for file in tqdm(os.listdir(DATA_PATH), desc=\"Tokenizing:\"):\n",
    "    verdict = tok.tokenize_verdict(DATA_PATH/file)\n",
    "    gp_lengths = []\n",
    "    for g in verdict[\"guiding_principle\"]:\n",
    "        gp_lengths.append(len(g))\n",
    "    f_lengths = []\n",
    "    for f in verdict[\"facts\"]:\n",
    "        f_lengths.append(len(f))\n",
    "    r_lengths = []\n",
    "    for r in verdict[\"reasoning\"]:\n",
    "        r_lengths.append(len(r))\n",
    "    lengths.append((gp_lengths, f_lengths, r_lengths))"
   ]
  },
  {
   "cell_type": "code",
   "execution_count": 20,
   "id": "eleven-grade",
   "metadata": {},
   "outputs": [],
   "source": [
    "gp_lengths = []\n",
    "f_lengths = []\n",
    "r_lengths = []\n",
    "for gp, f, r in lengths:\n",
    "    gp_lengths.append(gp)\n",
    "    f_lengths.append(f)\n",
    "    r_lengths.append(r)"
   ]
  },
  {
   "cell_type": "markdown",
   "id": "organic-shipping",
   "metadata": {},
   "source": [
    "### Tokens in Guiding Principle"
   ]
  },
  {
   "cell_type": "code",
   "execution_count": 21,
   "id": "swedish-providence",
   "metadata": {},
   "outputs": [],
   "source": [
    "all_lengths = [j for i in gp_lengths for j in i]"
   ]
  },
  {
   "cell_type": "code",
   "execution_count": 22,
   "id": "automotive-thanksgiving",
   "metadata": {},
   "outputs": [
    {
     "name": "stdout",
     "output_type": "stream",
     "text": [
      "Average guiding principle length: 25.820362674726105\n"
     ]
    }
   ],
   "source": [
    "average = sum(all_lengths)/len(all_lengths)\n",
    "print(\"Average guiding principle length:\", average)"
   ]
  },
  {
   "cell_type": "code",
   "execution_count": 23,
   "id": "english-father",
   "metadata": {},
   "outputs": [
    {
     "name": "stdout",
     "output_type": "stream",
     "text": [
      "Lenghts in : [ 1 , 276 ]\n",
      "Total num tokens: 7518115\n"
     ]
    }
   ],
   "source": [
    "print(\"Lenghts in : [\", min(all_lengths), \",\", max(all_lengths), \"]\")\n",
    "print(\"Total num tokens:\", sum(all_lengths))"
   ]
  },
  {
   "cell_type": "code",
   "execution_count": 24,
   "id": "unable-anthropology",
   "metadata": {},
   "outputs": [
    {
     "data": {
      "text/plain": [
       "<AxesSubplot:ylabel='Density'>"
      ]
     },
     "execution_count": 24,
     "metadata": {},
     "output_type": "execute_result"
    },
    {
     "data": {
      "image/png": "[encoded data removed]",
      "text/plain": [
       "<Figure size 432x288 with 1 Axes>"
      ]
     },
     "metadata": {
      "needs_background": "light"
     },
     "output_type": "display_data"
    }
   ],
   "source": [
    "sns.kdeplot(all_lengths)"
   ]
  },
  {
   "cell_type": "markdown",
   "id": "ethical-terminal",
   "metadata": {},
   "source": [
    "### Tokens in Facts"
   ]
  },
  {
   "cell_type": "code",
   "execution_count": 25,
   "id": "dependent-karaoke",
   "metadata": {},
   "outputs": [],
   "source": [
    "all_lengths = [j for i in f_lengths for j in i]"
   ]
  },
  {
   "cell_type": "code",
   "execution_count": 26,
   "id": "published-spanking",
   "metadata": {},
   "outputs": [
    {
     "name": "stdout",
     "output_type": "stream",
     "text": [
      "Average facts length: 19.310186486636958\n"
     ]
    }
   ],
   "source": [
    "average = sum(all_lengths)/len(all_lengths)\n",
    "print(\"Average facts length:\", average)"
   ]
  },
  {
   "cell_type": "code",
   "execution_count": 27,
   "id": "corporate-november",
   "metadata": {},
   "outputs": [
    {
     "name": "stdout",
     "output_type": "stream",
     "text": [
      "Lenghts in : [ 1 , 1153 ]\n",
      "Total num tokens: 70409053\n"
     ]
    }
   ],
   "source": [
    "print(\"Lenghts in : [\", min(all_lengths), \",\", max(all_lengths), \"]\")\n",
    "print(\"Total num tokens:\", sum(all_lengths))"
   ]
  },
  {
   "cell_type": "code",
   "execution_count": 29,
   "id": "competitive-cabinet",
   "metadata": {},
   "outputs": [
    {
     "data": {
      "text/plain": [
       "<AxesSubplot:ylabel='Density'>"
      ]
     },
     "execution_count": 29,
     "metadata": {},
     "output_type": "execute_result"
    },
    {
     "data": {
      "image/png": "[encoded data removed]",
      "text/plain": [
       "<Figure size 432x288 with 1 Axes>"
      ]
     },
     "metadata": {
      "needs_background": "light"
     },
     "output_type": "display_data"
    }
   ],
   "source": [
    "sns.kdeplot(all_lengths)"
   ]
  },
  {
   "cell_type": "markdown",
   "id": "streaming-separation",
   "metadata": {},
   "source": [
    "### Tokens in Reasoning"
   ]
  },
  {
   "cell_type": "code",
   "execution_count": 30,
   "id": "robust-driving",
   "metadata": {},
   "outputs": [],
   "source": [
    "all_lengths = [j for i in r_lengths for j in i]"
   ]
  },
  {
   "cell_type": "code",
   "execution_count": 31,
   "id": "demonstrated-copying",
   "metadata": {},
   "outputs": [
    {
     "name": "stdout",
     "output_type": "stream",
     "text": [
      "Average reasoning length: 22.87609130468869\n"
     ]
    }
   ],
   "source": [
    "average = sum(all_lengths)/len(all_lengths)\n",
    "print(\"Average reasoning length:\", average)"
   ]
  },
  {
   "cell_type": "code",
   "execution_count": 32,
   "id": "conceptual-transfer",
   "metadata": {},
   "outputs": [
    {
     "name": "stdout",
     "output_type": "stream",
     "text": [
      "Lenghts in : [ 1 , 887 ]\n",
      "Total num tokens: 171866038\n"
     ]
    }
   ],
   "source": [
    "print(\"Lenghts in : [\", min(all_lengths), \",\", max(all_lengths), \"]\")\n",
    "print(\"Total num tokens:\", sum(all_lengths))"
   ]
  },
  {
   "cell_type": "code",
   "execution_count": 33,
   "id": "forbidden-exemption",
   "metadata": {},
   "outputs": [
    {
     "data": {
      "text/plain": [
       "<AxesSubplot:ylabel='Density'>"
      ]
     },
     "execution_count": 33,
     "metadata": {},
     "output_type": "execute_result"
    },
    {
     "data": {
      "image/png": "[encoded data removed]",
      "text/plain": [
       "<Figure size 432x288 with 1 Axes>"
      ]
     },
     "metadata": {
      "needs_background": "light"
     },
     "output_type": "display_data"
    }
   ],
   "source": [
    "sns.kdeplot(all_lengths)"
   ]
  },
  {
   "cell_type": "markdown",
   "id": "eleven-elements",
   "metadata": {},
   "source": [
    "### Tokens in Body"
   ]
  },
  {
   "cell_type": "code",
   "execution_count": 34,
   "id": "statistical-pavilion",
   "metadata": {},
   "outputs": [],
   "source": [
    "body_length = []\n",
    "for f, r in zip(f_lengths, r_lengths):\n",
    "    body_length.append(f+r)"
   ]
  },
  {
   "cell_type": "code",
   "execution_count": 35,
   "id": "digital-fellow",
   "metadata": {},
   "outputs": [],
   "source": [
    "all_lengths = [j for i in body_length for j in i]"
   ]
  },
  {
   "cell_type": "code",
   "execution_count": 36,
   "id": "muslim-finder",
   "metadata": {},
   "outputs": [
    {
     "name": "stdout",
     "output_type": "stream",
     "text": [
      "Average body sentence length: 21.71094173700373\n"
     ]
    }
   ],
   "source": [
    "average = sum(all_lengths)/len(all_lengths)\n",
    "print(\"Average body sentence length:\", average)"
   ]
  },
  {
   "cell_type": "code",
   "execution_count": 37,
   "id": "earned-being",
   "metadata": {},
   "outputs": [
    {
     "name": "stdout",
     "output_type": "stream",
     "text": [
      "Lenghts in : [ 1 , 1153 ]\n",
      "Total num tokens: 242275091\n"
     ]
    }
   ],
   "source": [
    "print(\"Lenghts in : [\", min(all_lengths), \",\", max(all_lengths), \"]\")\n",
    "print(\"Total num tokens:\", sum(all_lengths))"
   ]
  },
  {
   "cell_type": "markdown",
   "id": "vulnerable-postcard",
   "metadata": {},
   "source": [
    "## Sentences"
   ]
  },
  {
   "cell_type": "markdown",
   "id": "incredible-deposit",
   "metadata": {},
   "source": [
    "Now we will have a look at the number of sentences per segment."
   ]
  },
  {
   "cell_type": "code",
   "execution_count": 38,
   "id": "surrounded-marking",
   "metadata": {},
   "outputs": [],
   "source": [
    "gp_lengths = []\n",
    "f_lengths = []\n",
    "r_lengths = []\n",
    "for gp, f, r in lengths:\n",
    "    gp_lengths.append(len(gp))\n",
    "    f_lengths.append(len(f))\n",
    "    r_lengths.append(len(r))"
   ]
  },
  {
   "cell_type": "markdown",
   "id": "published-recycling",
   "metadata": {},
   "source": [
    "### Sentences in Guiding Principles"
   ]
  },
  {
   "cell_type": "code",
   "execution_count": 39,
   "id": "adult-english",
   "metadata": {},
   "outputs": [
    {
     "name": "stdout",
     "output_type": "stream",
     "text": [
      "Average num sentences in guiding principle: 2.911175988322102\n"
     ]
    }
   ],
   "source": [
    "average = sum(gp_lengths)/len(gp_lengths)\n",
    "print(\"Average num sentences in guiding principle:\", average)"
   ]
  },
  {
   "cell_type": "code",
   "execution_count": 40,
   "id": "verified-scanner",
   "metadata": {},
   "outputs": [
    {
     "name": "stdout",
     "output_type": "stream",
     "text": [
      "Lenghts in : [ 1 , 74 ]\n",
      "Total num sentences: 291170\n"
     ]
    }
   ],
   "source": [
    "print(\"Lenghts in : [\", min(gp_lengths), \",\", max(gp_lengths), \"]\")\n",
    "print(\"Total num sentences:\", sum(gp_lengths))"
   ]
  },
  {
   "cell_type": "code",
   "execution_count": 41,
   "id": "original-violence",
   "metadata": {},
   "outputs": [
    {
     "data": {
      "text/plain": [
       "<AxesSubplot:ylabel='Density'>"
      ]
     },
     "execution_count": 41,
     "metadata": {},
     "output_type": "execute_result"
    },
    {
     "data": {
      "image/png": "[encoded data removed]",
      "text/plain": [
       "<Figure size 432x288 with 1 Axes>"
      ]
     },
     "metadata": {
      "needs_background": "light"
     },
     "output_type": "display_data"
    }
   ],
   "source": [
    "sns.kdeplot(gp_lengths)"
   ]
  },
  {
   "cell_type": "markdown",
   "id": "expired-slovakia",
   "metadata": {},
   "source": [
    "### Sentences in Facts"
   ]
  },
  {
   "cell_type": "code",
   "execution_count": 42,
   "id": "dutch-trail",
   "metadata": {},
   "outputs": [
    {
     "name": "stdout",
     "output_type": "stream",
     "text": [
      "Average num sentences in facts: 36.455567997760404\n"
     ]
    }
   ],
   "source": [
    "average = sum(f_lengths)/len(f_lengths)\n",
    "print(\"Average num sentences in facts:\", average)"
   ]
  },
  {
   "cell_type": "code",
   "execution_count": 43,
   "id": "steady-lobby",
   "metadata": {},
   "outputs": [
    {
     "name": "stdout",
     "output_type": "stream",
     "text": [
      "Lenghts in : [ 0 , 1693 ]\n",
      "Total num sentences: 3646213\n"
     ]
    }
   ],
   "source": [
    "print(\"Lenghts in : [\", min(f_lengths), \",\", max(f_lengths), \"]\")\n",
    "print(\"Total num sentences:\", sum(f_lengths))"
   ]
  },
  {
   "cell_type": "code",
   "execution_count": 44,
   "id": "complimentary-nudist",
   "metadata": {},
   "outputs": [
    {
     "data": {
      "text/plain": [
       "<AxesSubplot:ylabel='Density'>"
      ]
     },
     "execution_count": 44,
     "metadata": {},
     "output_type": "execute_result"
    },
    {
     "data": {
      "image/png": "[encoded data removed]",
      "text/plain": [
       "<Figure size 432x288 with 1 Axes>"
      ]
     },
     "metadata": {
      "needs_background": "light"
     },
     "output_type": "display_data"
    }
   ],
   "source": [
    "sns.kdeplot(r_lengths)"
   ]
  },
  {
   "cell_type": "markdown",
   "id": "cleared-upset",
   "metadata": {},
   "source": [
    "### Sentences in Reasoning"
   ]
  },
  {
   "cell_type": "code",
   "execution_count": 45,
   "id": "approved-revolution",
   "metadata": {},
   "outputs": [
    {
     "name": "stdout",
     "output_type": "stream",
     "text": [
      "Average num sentences in reasoning: 75.11558919394508\n"
     ]
    }
   ],
   "source": [
    "average = sum(r_lengths)/len(r_lengths)\n",
    "print(\"Average num sentences in reasoning:\", average)"
   ]
  },
  {
   "cell_type": "code",
   "execution_count": 46,
   "id": "active-singles",
   "metadata": {},
   "outputs": [
    {
     "name": "stdout",
     "output_type": "stream",
     "text": [
      "Lenghts in : [ 0 , 3063 ]\n",
      "Total num sentences: 7512911\n"
     ]
    }
   ],
   "source": [
    "print(\"Lenghts in : [\", min(r_lengths), \",\", max(r_lengths), \"]\")\n",
    "print(\"Total num sentences:\", sum(r_lengths))"
   ]
  },
  {
   "cell_type": "code",
   "execution_count": 47,
   "id": "finite-throat",
   "metadata": {},
   "outputs": [
    {
     "data": {
      "text/plain": [
       "<AxesSubplot:ylabel='Density'>"
      ]
     },
     "execution_count": 47,
     "metadata": {},
     "output_type": "execute_result"
    },
    {
     "data": {
      "image/png": "[encoded data removed]",
      "text/plain": [
       "<Figure size 432x288 with 1 Axes>"
      ]
     },
     "metadata": {
      "needs_background": "light"
     },
     "output_type": "display_data"
    }
   ],
   "source": [
    "sns.kdeplot(r_lengths)"
   ]
  },
  {
   "cell_type": "markdown",
   "id": "authentic-links",
   "metadata": {},
   "source": [
    "### Sentences in total Body"
   ]
  },
  {
   "cell_type": "code",
   "execution_count": 48,
   "id": "baking-benchmark",
   "metadata": {},
   "outputs": [],
   "source": [
    "body_length = []\n",
    "for f, r in zip(f_lengths, r_lengths):\n",
    "    body_length.append(f+r)"
   ]
  },
  {
   "cell_type": "code",
   "execution_count": 49,
   "id": "younger-finnish",
   "metadata": {},
   "outputs": [
    {
     "name": "stdout",
     "output_type": "stream",
     "text": [
      "Average num sentences in body: 111.5711571917055\n"
     ]
    }
   ],
   "source": [
    "average = sum(body_length)/len(body_length)\n",
    "print(\"Average num sentences in body:\", average)"
   ]
  },
  {
   "cell_type": "code",
   "execution_count": 50,
   "id": "royal-nursing",
   "metadata": {},
   "outputs": [
    {
     "name": "stdout",
     "output_type": "stream",
     "text": [
      "Lenghts in : [ 1 , 3063 ]\n",
      "Total num sentences: 11159124\n"
     ]
    }
   ],
   "source": [
    "print(\"Lenghts in : [\", min(body_length), \",\", max(body_length), \"]\")\n",
    "print(\"Total num sentences:\", sum(body_length))"
   ]
  },
  {
   "cell_type": "code",
   "execution_count": 51,
   "id": "recovered-explorer",
   "metadata": {},
   "outputs": [
    {
     "data": {
      "text/plain": [
       "<AxesSubplot:ylabel='Density'>"
      ]
     },
     "execution_count": 51,
     "metadata": {},
     "output_type": "execute_result"
    },
    {
     "data": {
      "image/png": "[encoded data removed]",
      "text/plain": [
       "<Figure size 432x288 with 1 Axes>"
      ]
     },
     "metadata": {
      "needs_background": "light"
     },
     "output_type": "display_data"
    }
   ],
   "source": [
    "sns.kdeplot(body_length)"
   ]
  }
 ],
 "metadata": {
  "kernelspec": {
   "display_name": "Python 3",
   "language": "python",
   "name": "python3"
  },
  "language_info": {
   "codemirror_mode": {
    "name": "ipython",
    "version": 3
   },
   "file_extension": ".py",
   "mimetype": "text/x-python",
   "name": "python",
   "nbconvert_exporter": "python",
   "pygments_lexer": "ipython3",
   "version": "3.8.5"
  }
 },
 "nbformat": 4,
 "nbformat_minor": 5
}
