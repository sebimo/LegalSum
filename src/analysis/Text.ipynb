{
 "cells": [
  {
   "cell_type": "markdown",
   "id": "animated-definition",
   "metadata": {},
   "source": [
    "## Token Analysis \n",
    "Some analysis about the words found in the verdicts. \n",
    "This might help to decide which type of tokenization I need to use to create a scalable and robust summarization system."
   ]
  },
  {
   "cell_type": "markdown",
   "id": "sharing-equipment",
   "metadata": {},
   "source": [
    "Assumption: When executing this notebook, we are in the \"analysis\" folder, to have the ability to use relative paths."
   ]
  },
  {
   "cell_type": "markdown",
   "id": "vital-market",
   "metadata": {},
   "source": [
    "### Data Loading"
   ]
  },
  {
   "cell_type": "code",
   "execution_count": 3,
   "id": "soviet-tuner",
   "metadata": {},
   "outputs": [],
   "source": [
    "from collections import Counter\n",
    "import io\n",
    "import pickle\n",
    "from pathlib import Path\n",
    "import seaborn as sns\n",
    "from pprint import pprint"
   ]
  },
  {
   "cell_type": "code",
   "execution_count": 4,
   "id": "opposite-charlotte",
   "metadata": {},
   "outputs": [],
   "source": [
    "with io.open(Path(\"..\")/\"model\"/\"frequency.pkl\", \"rb\") as f:\n",
    "    counter = pickle.load(f)"
   ]
  },
  {
   "cell_type": "code",
   "execution_count": 5,
   "id": "suspected-translation",
   "metadata": {},
   "outputs": [
    {
     "name": "stdout",
     "output_type": "stream",
     "text": [
      "Range of token counts: [ 1 , 11483317 ]\n"
     ]
    }
   ],
   "source": [
    "counts = counter.values()\n",
    "print(\"Range of token counts:\", \"[\", min(counts),\",\", max(counts), \"]\")"
   ]
  },
  {
   "cell_type": "code",
   "execution_count": 6,
   "id": "renewable-disorder",
   "metadata": {},
   "outputs": [
    {
     "name": "stdout",
     "output_type": "stream",
     "text": [
      "Most common words:\n",
      "[('der', 11483317),\n",
      " ('die', 9463792),\n",
      " ('<num>', 8520516),\n",
      " ('des', 4399697),\n",
      " ('und', 3972521),\n",
      " ('in', 3283605),\n",
      " ('nicht', 3177785),\n",
      " ('zu', 2724230),\n",
      " ('den', 2705725),\n",
      " ('ist', 2276210),\n",
      " ('von', 2254338),\n",
      " ('das', 2231472),\n",
      " ('dem', 2151194),\n",
      " ('auf', 2111949),\n",
      " ('dass', 2008217),\n",
      " ('im', 1971140),\n",
      " ('für', 1961108),\n",
      " ('eine', 1843921),\n",
      " ('mit', 1750234),\n",
      " ('nach', 1680086)]\n"
     ]
    }
   ],
   "source": [
    "print(\"Most common words:\")\n",
    "pprint(counter.most_common(20))"
   ]
  },
  {
   "cell_type": "code",
   "execution_count": 7,
   "id": "expected-substance",
   "metadata": {},
   "outputs": [
    {
     "name": "stdout",
     "output_type": "stream",
     "text": [
      "Number of uniqe words: 1051767\n"
     ]
    }
   ],
   "source": [
    "print(\"Number of uniqe words:\", len(counter))"
   ]
  },
  {
   "cell_type": "code",
   "execution_count": 8,
   "id": "suspended-sweden",
   "metadata": {},
   "outputs": [
    {
     "name": "stdout",
     "output_type": "stream",
     "text": [
      "Most common number of occurences of unique words:\n",
      "[(1, 436356),\n",
      " (2, 160253),\n",
      " (3, 76892),\n",
      " (4, 51989),\n",
      " (5, 34317),\n",
      " (6, 26883),\n",
      " (7, 20606),\n",
      " (8, 16873),\n",
      " (9, 13957),\n",
      " (10, 12253),\n",
      " (11, 10198),\n",
      " (12, 9115),\n",
      " (13, 7920),\n",
      " (14, 7281),\n",
      " (15, 6300),\n",
      " (16, 5849),\n",
      " (17, 5157),\n",
      " (18, 4867),\n",
      " (19, 4445),\n",
      " (20, 4201)]\n"
     ]
    }
   ],
   "source": [
    "frequency_count = Counter(counts)\n",
    "print(\"Most common number of occurences of unique words:\")\n",
    "pprint(frequency_count.most_common(20))"
   ]
  },
  {
   "cell_type": "markdown",
   "id": "plastic-spokesman",
   "metadata": {},
   "source": [
    "Based on the very large portion of unique words, which only appear a handful of times, we need to set a token count threshold. Otherwise the number of tokens will be way to large for learning."
   ]
  },
  {
   "cell_type": "code",
   "execution_count": 9,
   "id": "addressed-conviction",
   "metadata": {},
   "outputs": [
    {
     "name": "stdout",
     "output_type": "stream",
     "text": [
      "Number of unique words (after threshold filter): 52139\n",
      "Percentage of total words cut: 0.029156844287864803\n"
     ]
    }
   ],
   "source": [
    "threshold = 100\n",
    "filtered_counts = list(filter(lambda x: x > threshold, counts))\n",
    "print(\"Number of unique words (after threshold filter):\", len(filtered_counts))\n",
    "print(\"Percentage of total words cut:\", (1-sum(filtered_counts)/sum(counts)))"
   ]
  },
  {
   "cell_type": "code",
   "execution_count": 10,
   "id": "regulated-projection",
   "metadata": {},
   "outputs": [
    {
     "name": "stdout",
     "output_type": "stream",
     "text": [
      "Percentage of individual word occurences:\n"
     ]
    },
    {
     "data": {
      "text/plain": [
       "<AxesSubplot:ylabel='Density'>"
      ]
     },
     "execution_count": 10,
     "metadata": {},
     "output_type": "execute_result"
    },
    {
     "data": {
      "image/png": "[encoded data removed]",
      "text/plain": [
       "<Figure size 432x288 with 1 Axes>"
      ]
     },
     "metadata": {
      "needs_background": "light"
     },
     "output_type": "display_data"
    }
   ],
   "source": [
    "print(\"Percentage of individual word occurences:\")\n",
    "sns.kdeplot(filtered_counts)"
   ]
  },
  {
   "cell_type": "code",
   "execution_count": 11,
   "id": "universal-victor",
   "metadata": {},
   "outputs": [],
   "source": [
    "# TODO do plot of threshold vs percentage of total words cut"
   ]
  },
  {
   "cell_type": "markdown",
   "id": "familiar-prescription",
   "metadata": {},
   "source": [
    "### Result\n",
    "The tokenization should probably be build around byte-pair encoding, otherwise is the number of unique words just way to high. A high threshold might be an Option, as only a small portion of the verdict would be replaced with \"\\<unk\\>\""
   ]
  },
  {
   "cell_type": "markdown",
   "id": "viral-rebel",
   "metadata": {},
   "source": [
    "## Guiding Principle Analysis\n",
    "I will have a look at general properties for the Guiding Principles. E.g. number of sentences, len"
   ]
  },
  {
   "cell_type": "code",
   "execution_count": 13,
   "id": "alone-council",
   "metadata": {},
   "outputs": [],
   "source": [
    "from preprocessing import Tokenizer"
   ]
  },
  {
   "cell_type": "code",
   "execution_count": null,
   "id": "corrected-malaysia",
   "metadata": {},
   "outputs": [],
   "source": []
  }
 ],
 "metadata": {
  "kernelspec": {
   "display_name": "Python 3",
   "language": "python",
   "name": "python3"
  },
  "language_info": {
   "codemirror_mode": {
    "name": "ipython",
    "version": 3
   },
   "file_extension": ".py",
   "mimetype": "text/x-python",
   "name": "python",
   "nbconvert_exporter": "python",
   "pygments_lexer": "ipython3",
   "version": "3.8.5"
  }
 },
 "nbformat": 4,
 "nbformat_minor": 5
}
