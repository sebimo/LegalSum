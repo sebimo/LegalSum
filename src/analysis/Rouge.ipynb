{
 "cells": [
  {
   "cell_type": "markdown",
   "id": "cultural-reserve",
   "metadata": {},
   "source": [
    "## Rouge Analysis\n",
    "In this notebook we want to analyis possible performance levels for extractive summarization.\n",
    "* number of necessary sentences in gold label\n",
    "* highest possible rouge score per verdict (based on extracting sentences, 1-grams, 2-grams,...)"
   ]
  },
  {
   "cell_type": "code",
   "execution_count": 1,
   "id": "recorded-hampton",
   "metadata": {},
   "outputs": [],
   "source": [
    "%matplotlib inline\n",
    "\n",
    "import sys\n",
    "sys.path.append(\"..\")\n",
    "from pathlib import Path\n",
    "import pickle\n",
    "import os, io\n",
    "from collections import defaultdict\n",
    "\n",
    "from tqdm import tqdm\n",
    "import numpy as np\n",
    "import seaborn as sns\n",
    "\n",
    "from preprocessing import Tokenizer"
   ]
  },
  {
   "cell_type": "code",
   "execution_count": 2,
   "id": "center-korea",
   "metadata": {},
   "outputs": [],
   "source": [
    "tok = Tokenizer(Path(\"..\")/\"..\"/\"model\")\n",
    "DATA_PATH = Path(\"..\")/\"..\"/\"data\"/\"dataset\""
   ]
  },
  {
   "cell_type": "markdown",
   "id": "guilty-insider",
   "metadata": {},
   "source": [
    "We now will analyse with how many sentence the guiding principle overlaps with. This gives us an estimate on how many sentences could be picked when assigning greedy targets."
   ]
  },
  {
   "cell_type": "code",
   "execution_count": 3,
   "id": "specific-musician",
   "metadata": {},
   "outputs": [],
   "source": [
    "# Contains list of tuples with the (num sentences overlapping with the guiding principles, length verdict body)\n",
    "with open(Path(\"rouge_counts.pkl\"), \"rb\") as f:\n",
    "    sentences = pickle.load(f)"
   ]
  },
  {
   "cell_type": "code",
   "execution_count": 4,
   "id": "relevant-tribe",
   "metadata": {},
   "outputs": [],
   "source": [
    "overlaps = np.array(list(map(lambda x: x[0], sentences)))\n",
    "lengths = np.array(list(map(lambda x: x[1], sentences)))"
   ]
  },
  {
   "cell_type": "code",
   "execution_count": 5,
   "id": "wanted-planning",
   "metadata": {},
   "outputs": [],
   "source": [
    "max_overlap = np.max(overlaps)\n",
    "min_overlap = np.min(overlaps)\n",
    "avg_overlap = np.average(overlaps)\n",
    "median_overlap = np.median(overlaps)"
   ]
  },
  {
   "cell_type": "code",
   "execution_count": 6,
   "id": "removed-samba",
   "metadata": {},
   "outputs": [
    {
     "name": "stdout",
     "output_type": "stream",
     "text": [
      "Number of sentences overlapping via 2-grams with the guiding principle\n",
      "Max: 1267 ; Min: 0 ; Avg: 32.67315338354878 ; Median: 22.0\n"
     ]
    }
   ],
   "source": [
    "print(\"Number of sentences overlapping via 2-grams with the guiding principle\")\n",
    "print(\"Max:\", max_overlap, \"; Min:\", min_overlap, \"; Avg:\", avg_overlap, \"; Median:\", median_overlap)"
   ]
  },
  {
   "cell_type": "markdown",
   "id": "alien-professor",
   "metadata": {},
   "source": [
    "To bring this in relation: average number of sentences found in guiding principles is ~ 3; i.e. in a greedy selection this would result in a summarization ten times the wanted size."
   ]
  },
  {
   "cell_type": "code",
   "execution_count": 7,
   "id": "liked-marketplace",
   "metadata": {},
   "outputs": [],
   "source": [
    "percentages = overlaps/lengths"
   ]
  },
  {
   "cell_type": "code",
   "execution_count": 8,
   "id": "hybrid-damages",
   "metadata": {},
   "outputs": [],
   "source": [
    "max_percentage = np.max(percentages)\n",
    "min_percentage = np.min(percentages)\n",
    "avg_percentage = np.average(percentages)\n",
    "median_percentage = np.median(percentages)"
   ]
  },
  {
   "cell_type": "code",
   "execution_count": 9,
   "id": "further-project",
   "metadata": {},
   "outputs": [
    {
     "name": "stdout",
     "output_type": "stream",
     "text": [
      "Percentage of sentences overlapping via 2-grams with the guiding principle\n",
      "Max: 1.0 ; Min: 0.0 ; Avg: 0.3010244944790444 ; Median: 0.2857142857142857\n"
     ]
    }
   ],
   "source": [
    "print(\"Percentage of sentences overlapping via 2-grams with the guiding principle\")\n",
    "print(\"Max:\", max_percentage, \"; Min:\", min_percentage, \"; Avg:\", avg_percentage, \"; Median:\", median_percentage)"
   ]
  },
  {
   "cell_type": "code",
   "execution_count": 10,
   "id": "specialized-conditions",
   "metadata": {},
   "outputs": [
    {
     "data": {
      "text/plain": [
       "array([ 1283,  2903, 11999, 12331, 14525, 16293, 24148, 25280, 29829,\n",
       "       39456, 48325, 48391, 48478, 50542, 51521, 52956, 54897, 56584,\n",
       "       57511, 58462, 58495, 61203, 61386, 61412, 61466, 61510, 61834,\n",
       "       61936, 62366, 68927, 68959, 69651, 70968, 71760, 75879, 76355,\n",
       "       79097, 87906, 93956, 99381], dtype=int64)"
      ]
     },
     "execution_count": 10,
     "metadata": {},
     "output_type": "execute_result"
    }
   ],
   "source": [
    "high_verdicts = np.where(percentages>=0.9)\n",
    "low_verdicts = np.where(percentages<=0.01)\n",
    "high_verdicts[0]"
   ]
  },
  {
   "cell_type": "code",
   "execution_count": 11,
   "id": "hungry-baker",
   "metadata": {},
   "outputs": [
    {
     "name": "stdout",
     "output_type": "stream",
     "text": [
      "Verdicts on the extreme overlap sides:\n",
      "High overlap: 40 ; Low overlap: 1150\n"
     ]
    }
   ],
   "source": [
    "print(\"Verdicts on the extreme overlap sides:\")\n",
    "print(\"High overlap:\", high_verdicts[0].shape[0], \"; Low overlap:\", low_verdicts[0].shape[0])\n",
    "testing_verdicts = np.hstack([high_verdicts[0], low_verdicts[0]])"
   ]
  },
  {
   "cell_type": "code",
   "execution_count": 12,
   "id": "lined-traveler",
   "metadata": {},
   "outputs": [
    {
     "data": {
      "text/plain": [
       "Text(0.5, 1.0, 'Accumulation of overlap percentages')"
      ]
     },
     "execution_count": 12,
     "metadata": {},
     "output_type": "execute_result"
    },
    {
     "data": {
      "image/png": "[encoded data removed]",
      "text/plain": [
       "<Figure size 432x288 with 1 Axes>"
      ]
     },
     "metadata": {
      "needs_background": "light"
     },
     "output_type": "display_data"
    }
   ],
   "source": [
    "sns.histplot(percentages).set_title(\"Accumulation of overlap percentages\")"
   ]
  },
  {
   "cell_type": "code",
   "execution_count": 13,
   "id": "capital-rabbit",
   "metadata": {},
   "outputs": [],
   "source": [
    "# We now want to map the indices back to the verdicts\n",
    "testing_set = set()\n",
    "for ind in testing_verdicts:\n",
    "    testing_set.add(ind)"
   ]
  },
  {
   "cell_type": "code",
   "execution_count": 14,
   "id": "developed-apparatus",
   "metadata": {},
   "outputs": [],
   "source": [
    "if False:\n",
    "    files = []\n",
    "    for i, file in enumerate(os.listdir(DATA_PATH)):\n",
    "        if i in testing_set:\n",
    "            files.append(file)"
   ]
  },
  {
   "cell_type": "code",
   "execution_count": 15,
   "id": "southeast-worth",
   "metadata": {},
   "outputs": [],
   "source": [
    "if False:\n",
    "    with io.open(Path(\"filter_verdicts.txt\"), \"w+\", encoding=\"utf-8\") as f:\n",
    "        for file in files:\n",
    "            f.write(file+\"\\n\")"
   ]
  },
  {
   "cell_type": "markdown",
   "id": "chief-speaker",
   "metadata": {},
   "source": [
    "We now want to investigate what the maximum possible rouge score would be if we can choose any tokens"
   ]
  },
  {
   "cell_type": "code",
   "execution_count": 18,
   "id": "silent-vulnerability",
   "metadata": {},
   "outputs": [
    {
     "name": "stderr",
     "output_type": "stream",
     "text": [
      "100%|█████████████████████████████████████████████████████████████████████████████████████████████████████████████████████████████████████████████████████████████████████████████████████████████████████████████████████████████████████████████| 100102/100102 [21:51<00:00, 76.32it/s]\n"
     ]
    }
   ],
   "source": [
    "possible = []\n",
    "for file in tqdm(os.listdir(DATA_PATH)):\n",
    "    verdict = tok.tokenize_verdict(DATA_PATH/file)\n",
    "    wanted_tokens = defaultdict(int)\n",
    "    found = set()\n",
    "    for sent in verdict[\"guiding_principle\"]:\n",
    "        for token in sent:\n",
    "            wanted_tokens[token] += 1\n",
    "    \n",
    "    for sent in verdict[\"facts\"]:\n",
    "        for token in sent:\n",
    "            if token in wanted_tokens:\n",
    "                found.add(token)\n",
    "    \n",
    "    for sent in verdict[\"reasoning\"]:\n",
    "        for token in sent:\n",
    "            if token in wanted_tokens:\n",
    "                found.add(token)\n",
    "                \n",
    "    found_count = 0\n",
    "    total_count = 0\n",
    "    for token in wanted_tokens:\n",
    "        if token in found:\n",
    "            found_count += wanted_tokens[token]\n",
    "        total_count += wanted_tokens[token]\n",
    "    possible.append((found_count, total_count))"
   ]
  },
  {
   "cell_type": "code",
   "execution_count": 19,
   "id": "external-rainbow",
   "metadata": {},
   "outputs": [],
   "source": [
    "found = np.array(list(map(lambda x: x[0], possible)))\n",
    "total = np.array(list(map(lambda x: x[1], possible)))\n",
    "percentage = found/total"
   ]
  },
  {
   "cell_type": "code",
   "execution_count": 20,
   "id": "convinced-silly",
   "metadata": {},
   "outputs": [],
   "source": [
    "max_percentage = np.max(percentage)\n",
    "min_percentage = np.min(percentage)\n",
    "avg_percentage = np.average(percentage)\n",
    "median_percentage = np.median(percentage)"
   ]
  },
  {
   "cell_type": "code",
   "execution_count": 21,
   "id": "senior-bible",
   "metadata": {},
   "outputs": [
    {
     "name": "stdout",
     "output_type": "stream",
     "text": [
      "Percentage of sentences overlapping via 2-grams with the guiding principle\n",
      "Max: 1.0 ; Min: 0.0 ; Avg: 0.9037994967990082 ; Median: 0.926829268292683\n"
     ]
    }
   ],
   "source": [
    "print(\"Percentage of sentences overlapping via 1-grams with the guiding principle\")\n",
    "print(\"Max:\", max_percentage, \"; Min:\", min_percentage, \"; Avg:\", avg_percentage, \"; Median:\", median_percentage)"
   ]
  },
  {
   "cell_type": "code",
   "execution_count": 22,
   "id": "expensive-tower",
   "metadata": {},
   "outputs": [
    {
     "data": {
      "text/plain": [
       "Text(0.5, 1.0, 'Accumulation of overlap percentages')"
      ]
     },
     "execution_count": 22,
     "metadata": {},
     "output_type": "execute_result"
    },
    {
     "data": {
      "image/png": "[encoded data removed]",
      "text/plain": [
       "<Figure size 432x288 with 1 Axes>"
      ]
     },
     "metadata": {
      "needs_background": "light"
     },
     "output_type": "display_data"
    }
   ],
   "source": [
    "sns.histplot(percentage).set_title(\"Accumulation of overlap percentages\")"
   ]
  },
  {
   "cell_type": "code",
   "execution_count": 9,
   "id": "united-saturn",
   "metadata": {},
   "outputs": [
    {
     "name": "stderr",
     "output_type": "stream",
     "text": [
      "100%|█████████████████████████████████████████████████████████████████████████████████████████████████████████████████████████████████████████████████████████████████████████████████████████████████████████████████████████████████████████████| 100018/100018 [26:19<00:00, 63.34it/s]\n"
     ]
    }
   ],
   "source": [
    "grams = [2,3,4,5]\n",
    "possible = {\n",
    "    2: [],\n",
    "    3: [],\n",
    "    4: [],\n",
    "    5: []\n",
    "}\n",
    "for file in tqdm(os.listdir(DATA_PATH)):\n",
    "    verdict = tok.tokenize_verdict(DATA_PATH/file)\n",
    "    for g in grams:\n",
    "        wanted_tokens = {}\n",
    "        found = set()\n",
    "        for sent in verdict[\"guiding_principle\"]:\n",
    "            for tok_index in range(len(sent)-g+1):\n",
    "                gram = tuple(sent[tok_index:tok_index+g])\n",
    "                if gram in wanted_tokens:\n",
    "                    wanted_tokens[gram] += 1\n",
    "                else:\n",
    "                    wanted_tokens[gram] = 1\n",
    "\n",
    "        for sent in verdict[\"facts\"]:\n",
    "            for tok_index in range(len(sent)-g+1):\n",
    "                gram = tuple(sent[tok_index:tok_index+g])\n",
    "                if gram in wanted_tokens:\n",
    "                    found.add(gram)\n",
    "\n",
    "        for sent in verdict[\"reasoning\"]:\n",
    "            for tok_index in range(len(sent)-g+1):\n",
    "                gram = tuple(sent[tok_index:tok_index+g])\n",
    "                if gram in wanted_tokens:\n",
    "                    found.add(gram)\n",
    "\n",
    "        found_count = 0\n",
    "        total_count = 0\n",
    "        for gram in wanted_tokens:\n",
    "            if gram in found:\n",
    "                found_count += wanted_tokens[gram]\n",
    "            total_count += wanted_tokens[gram]\n",
    "        try:\n",
    "            assert total_count > 0, str(file)+\" \"+str(g)\n",
    "            possible[g].append((found_count, total_count))\n",
    "        except:\n",
    "            # In this case the guiding principle has less words than we are having grams (i.e. length gp = 4 <-> 5-gram)\n",
    "            pass"
   ]
  },
  {
   "cell_type": "markdown",
   "id": "fewer-airline",
   "metadata": {},
   "source": [
    "2-Grams"
   ]
  },
  {
   "cell_type": "code",
   "execution_count": 15,
   "id": "assumed-badge",
   "metadata": {},
   "outputs": [
    {
     "name": "stdout",
     "output_type": "stream",
     "text": [
      "Percentage of sentences overlapping via 2-grams with the guiding principle\n",
      "Max: 1.0 ; Min: 0.0 ; Avg: 0.5899604764440245 ; Median: 0.5948275862068966\n"
     ]
    },
    {
     "data": {
      "text/plain": [
       "Text(0.5, 1.0, 'Accumulation of overlap percentages')"
      ]
     },
     "execution_count": 15,
     "metadata": {},
     "output_type": "execute_result"
    },
    {
     "data": {
      "image/png": "[encoded data removed]",
      "text/plain": [
       "<Figure size 432x288 with 1 Axes>"
      ]
     },
     "metadata": {
      "needs_background": "light"
     },
     "output_type": "display_data"
    }
   ],
   "source": [
    "g=2\n",
    "found = np.array(list(map(lambda x: x[0], possible[g])))\n",
    "total = np.array(list(map(lambda x: x[1], possible[g])))\n",
    "percentage = found/total\n",
    "max_percentage = np.max(percentage)\n",
    "min_percentage = np.min(percentage)\n",
    "avg_percentage = np.average(percentage)\n",
    "median_percentage = np.median(percentage)\n",
    "print(\"Percentage of sentences overlapping via \"+str(2)+\"-grams with the guiding principle\")\n",
    "print(\"Max:\", max_percentage, \"; Min:\", min_percentage, \"; Avg:\", avg_percentage, \"; Median:\", median_percentage)\n",
    "sns.histplot(percentage).set_title(\"Accumulation of overlap percentages\")"
   ]
  },
  {
   "cell_type": "markdown",
   "id": "spanish-equipment",
   "metadata": {},
   "source": [
    "3-Grams"
   ]
  },
  {
   "cell_type": "code",
   "execution_count": 16,
   "id": "exceptional-enterprise",
   "metadata": {},
   "outputs": [
    {
     "name": "stdout",
     "output_type": "stream",
     "text": [
      "Percentage of sentences overlapping via 3-grams with the guiding principle\n",
      "Max: 1.0 ; Min: 0.0 ; Avg: 0.42456786224957516 ; Median: 0.38961038961038963\n"
     ]
    },
    {
     "data": {
      "text/plain": [
       "Text(0.5, 1.0, 'Accumulation of overlap percentages')"
      ]
     },
     "execution_count": 16,
     "metadata": {},
     "output_type": "execute_result"
    },
    {
     "data": {
      "image/png": "[encoded data removed]",
      "text/plain": [
       "<Figure size 432x288 with 1 Axes>"
      ]
     },
     "metadata": {
      "needs_background": "light"
     },
     "output_type": "display_data"
    }
   ],
   "source": [
    "g=3\n",
    "found = np.array(list(map(lambda x: x[0], possible[g])))\n",
    "total = np.array(list(map(lambda x: x[1], possible[g])))\n",
    "percentage = found/total\n",
    "max_percentage = np.max(percentage)\n",
    "min_percentage = np.min(percentage)\n",
    "avg_percentage = np.average(percentage)\n",
    "median_percentage = np.median(percentage)\n",
    "print(\"Percentage of sentences overlapping via \"+str(g)+\"-grams with the guiding principle\")\n",
    "print(\"Max:\", max_percentage, \"; Min:\", min_percentage, \"; Avg:\", avg_percentage, \"; Median:\", median_percentage)\n",
    "sns.histplot(percentage).set_title(\"Accumulation of overlap percentages\")"
   ]
  },
  {
   "cell_type": "markdown",
   "id": "express-marsh",
   "metadata": {},
   "source": [
    "4-Grams"
   ]
  },
  {
   "cell_type": "code",
   "execution_count": 17,
   "id": "checked-sherman",
   "metadata": {},
   "outputs": [
    {
     "name": "stdout",
     "output_type": "stream",
     "text": [
      "Percentage of sentences overlapping via 4-grams with the guiding principle\n",
      "Max: 1.0 ; Min: 0.0 ; Avg: 0.34723382009382453 ; Median: 0.2857142857142857\n"
     ]
    },
    {
     "data": {
      "text/plain": [
       "Text(0.5, 1.0, 'Accumulation of overlap percentages')"
      ]
     },
     "execution_count": 17,
     "metadata": {},
     "output_type": "execute_result"
    },
    {
     "data": {
      "image/png": "[encoded data removed]",
      "text/plain": [
       "<Figure size 432x288 with 1 Axes>"
      ]
     },
     "metadata": {
      "needs_background": "light"
     },
     "output_type": "display_data"
    }
   ],
   "source": [
    "g=4\n",
    "found = np.array(list(map(lambda x: x[0], possible[g])))\n",
    "total = np.array(list(map(lambda x: x[1], possible[g])))\n",
    "percentage = found/total\n",
    "max_percentage = np.max(percentage)\n",
    "min_percentage = np.min(percentage)\n",
    "avg_percentage = np.average(percentage)\n",
    "median_percentage = np.median(percentage)\n",
    "print(\"Percentage of sentences overlapping via \"+str(g)+\"-grams with the guiding principle\")\n",
    "print(\"Max:\", max_percentage, \"; Min:\", min_percentage, \"; Avg:\", avg_percentage, \"; Median:\", median_percentage)\n",
    "sns.histplot(percentage).set_title(\"Accumulation of overlap percentages\")"
   ]
  },
  {
   "cell_type": "markdown",
   "id": "laden-pharmacy",
   "metadata": {},
   "source": [
    "5-Grams"
   ]
  },
  {
   "cell_type": "code",
   "execution_count": 18,
   "id": "individual-summer",
   "metadata": {
    "scrolled": true
   },
   "outputs": [
    {
     "name": "stdout",
     "output_type": "stream",
     "text": [
      "Percentage of sentences overlapping via 5-grams with the guiding principle\n",
      "Max: 1.0 ; Min: 0.0 ; Avg: 0.30007165364804694 ; Median: 0.21428571428571427\n"
     ]
    },
    {
     "data": {
      "text/plain": [
       "Text(0.5, 1.0, 'Accumulation of overlap percentages')"
      ]
     },
     "execution_count": 18,
     "metadata": {},
     "output_type": "execute_result"
    },
    {
     "data": {
      "image/png": "[encoded data removed]",
      "text/plain": [
       "<Figure size 432x288 with 1 Axes>"
      ]
     },
     "metadata": {
      "needs_background": "light"
     },
     "output_type": "display_data"
    }
   ],
   "source": [
    "g=5\n",
    "found = np.array(list(map(lambda x: x[0], possible[g])))\n",
    "total = np.array(list(map(lambda x: x[1], possible[g])))\n",
    "percentage = found/total\n",
    "max_percentage = np.max(percentage)\n",
    "min_percentage = np.min(percentage)\n",
    "avg_percentage = np.average(percentage)\n",
    "median_percentage = np.median(percentage)\n",
    "print(\"Percentage of sentences overlapping via \"+str(g)+\"-grams with the guiding principle\")\n",
    "print(\"Max:\", max_percentage, \"; Min:\", min_percentage, \"; Avg:\", avg_percentage, \"; Median:\", median_percentage)\n",
    "sns.histplot(percentage).set_title(\"Accumulation of overlap percentages\")"
   ]
  },
  {
   "cell_type": "markdown",
   "id": "substantial-brain",
   "metadata": {},
   "source": [
    "To Summarize those statistics:\n",
    "* It is probably not sensible to use sentences as the level of extraction, as the higher the phrase length, the lower the overlap. Additionally, the overlap is a more forgiving statistic than other forms of measuring possible performance levels\n",
    "* There is a small number of verdicts with their guiding principle being completly copied from the body of the verdict\n",
    "\n",
    "We can expect very low performance levels when using extractive summarization (on a sentence level), as most sentence are way longer than 5 tokens; i.e. in most cases the incorrect phrases will be extracted.\n",
    "For higher performance levels, it is necessary to go for a lower extraction level. This might get complicated as the verdicts are quite long and we would need to have the entire context at all times."
   ]
  },
  {
   "cell_type": "markdown",
   "id": "reliable-waters",
   "metadata": {},
   "source": [
    "## Rouge Performance\n",
    "We now want to investigate what the possible ROUGE performance levels are for various selection strategies:\n",
    "* extractive sentences (same number as in guiding principle)\n",
    "* extractive sentences (greedy; i.e. take as many sentences as necessary)\n",
    "* extractive words"
   ]
  },
  {
   "cell_type": "markdown",
   "id": "valuable-violation",
   "metadata": {},
   "source": [
    "### Extractive Sentences (Same Number)"
   ]
  },
  {
   "cell_type": "code",
   "execution_count": 19,
   "id": "buried-frank",
   "metadata": {},
   "outputs": [],
   "source": [
    "from evaluation import evaluate"
   ]
  },
  {
   "cell_type": "code",
   "execution_count": 22,
   "id": "former-hypothesis",
   "metadata": {},
   "outputs": [
    {
     "name": "stderr",
     "output_type": "stream",
     "text": [
      "100%|█████████████████████████████████████████████████████████████████████| 1000/1000 [04:24<00:00,  3.78it/s]\n"
     ]
    }
   ],
   "source": [
    "scores = []\n",
    "for file in tqdm(os.listdir(DATA_PATH)[:1000]):\n",
    "    verdict = tok.tokenize_verdict_without_id(DATA_PATH/file)\n",
    "    # Used for the final score calculation\n",
    "    gp_ref = [j for i in verdict[\"guiding_principle\"] for j in i]\n",
    "    sentences = []\n",
    "    # We will simplify the strategy here a bit and only look for 2-gram overlaps and ignore any gps with no 2-gram overlap\n",
    "    for gp in verdict[\"guiding_principle\"]:\n",
    "        best_score = 0.0\n",
    "        sentence = None\n",
    "        for sent in verdict[\"facts\"]:\n",
    "            score = evaluate([gp], [sent])\n",
    "            if best_score < score[0][\"rouge-2\"][\"f\"]:\n",
    "                sentence = sent\n",
    "                best_score = score[0][\"rouge-2\"][\"f\"]\n",
    "                \n",
    "        for sent in verdict[\"reasoning\"]:\n",
    "            score = evaluate([gp], [sent])\n",
    "            if best_score < score[0][\"rouge-2\"][\"f\"]:\n",
    "                sentence = sent\n",
    "                best_score = score[0][\"rouge-2\"][\"f\"]\n",
    "                \n",
    "        if sentence is not None:\n",
    "            sentences.append(sentence)\n",
    "    \n",
    "    ref_sentences = [j for i in sentences for j in i]\n",
    "    if len(ref_sentences) == 0:\n",
    "        ref_sentences = [\"<unk>\"]\n",
    "    score = evaluate([gp_ref], [ref_sentences])\n",
    "    scores.append(score[0])"
   ]
  },
  {
   "cell_type": "code",
   "execution_count": 30,
   "id": "medium-vancouver",
   "metadata": {},
   "outputs": [],
   "source": [
    "rouge_1 = [x[\"rouge-1\"] for x in scores]\n",
    "rouge_2 = [x[\"rouge-2\"] for x in scores]\n",
    "rouge_l = [x[\"rouge-l\"] for x in scores]"
   ]
  },
  {
   "cell_type": "code",
   "execution_count": 31,
   "id": "terminal-arlington",
   "metadata": {},
   "outputs": [],
   "source": [
    "rouge_2_f = [x[\"f\"] for x in rouge_2]"
   ]
  },
  {
   "cell_type": "code",
   "execution_count": 35,
   "id": "statewide-fiber",
   "metadata": {},
   "outputs": [
    {
     "data": {
      "text/plain": [
       "<AxesSubplot:ylabel='Count'>"
      ]
     },
     "execution_count": 35,
     "metadata": {},
     "output_type": "execute_result"
    },
    {
     "data": {
      "image/png": "[encoded data removed]",
      "text/plain": [
       "<Figure size 432x288 with 1 Axes>"
      ]
     },
     "metadata": {
      "needs_background": "light"
     },
     "output_type": "display_data"
    }
   ],
   "source": [
    "sns.histplot(rouge_2_f)"
   ]
  },
  {
   "cell_type": "code",
   "execution_count": null,
   "id": "concerned-documentary",
   "metadata": {},
   "outputs": [],
   "source": []
  }
 ],
 "metadata": {
  "kernelspec": {
   "display_name": "Python 3",
   "language": "python",
   "name": "python3"
  },
  "language_info": {
   "codemirror_mode": {
    "name": "ipython",
    "version": 3
   },
   "file_extension": ".py",
   "mimetype": "text/x-python",
   "name": "python",
   "nbconvert_exporter": "python",
   "pygments_lexer": "ipython3",
   "version": "3.8.5"
  }
 },
 "nbformat": 4,
 "nbformat_minor": 5
}
